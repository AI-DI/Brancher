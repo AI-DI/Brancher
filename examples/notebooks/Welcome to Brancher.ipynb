{
 "cells": [
  {
   "cell_type": "markdown",
   "metadata": {},
   "source": [
    "# Welcome to Brancher\n",
    "Brancher is a user-centered probabilistic differentiable programming library. Brancher is designed to be as beginner friendly as possible and to minimize boilerplate code while retaining all the power and flexibility of general-purpose differentiable probabilistic programming and deep learning. Brancher is built around the deep learning framework [PyTorch](https://pytorch.org/). \n",
    "\n",
    "In this notebook I will explain how to use Brancher for writing your own differentiable probabilistic program and perform variational inference in a/only few lines of code. Let's start by importing some modules!"
   ]
  },
  {
   "cell_type": "code",
   "execution_count": null,
   "metadata": {},
   "outputs": [],
   "source": [
    "import sys\n",
    "sys.path.append('/home/luca/GitRepositories/Brancher')\n",
    "\n",
    "import torch\n",
    "import matplotlib.pyplot as plt\n",
    "\n",
    "from brancher.variables import ProbabilisticModel\n",
    "from brancher.standard_variables import NormalVariable, LogNormalVariable\n",
    "from brancher import inference\n",
    "import brancher.functions as BF"
   ]
  },
  {
   "cell_type": "markdown",
   "metadata": {},
   "source": [
    "Brancher is an object oriented library. This means that all objects in brancher are instantiation of classes that define the abstractions required for probabilistic programming. The foundamental building block of all Brancher programs is the RandomVariable class. probabilistic models are constructed by linking random variables through differentiable functions. RandomVariables are characterized by a probability distribution, a set of parent variables and a link that specifies how the values of the parents determine the parameters of its distribution.\n",
    "\n",
    "For example, let's define a model where the mean of a normal random variable (mu) is determined by the sine of another normal random variable. Brancher allows you to define his model symbolically like you would do in a scientific paper:"
   ]
  },
  {
   "cell_type": "code",
   "execution_count": 2,
   "metadata": {},
   "outputs": [],
   "source": [
    "# Model\n",
    "nu = LogNormalVariable(loc=0., scale=1., name=\"nu\")\n",
    "mu = NormalVariable(loc=0., scale=10., name=\"mu\")\n",
    "x = NormalVariable(loc=BF.sin(mu), scale=nu, name=\"x\")"
   ]
  },
  {
   "cell_type": "markdown",
   "metadata": {},
   "source": [
    "You have to admit that this is a pretty clean sintax! The classes LogNormalVariable and  NormalVariable are subclasses of RandomVariables. The [log normal](https://en.wikipedia.org/wiki/Log-normal_distribution) variable is obtained by taking the exponential of a normal random variable. This is a known special case of the differentiable probabilistic programming approach of obtaining new probability distributions by applying differentiable functions on a small set of basic distributions such as the normal.\n",
    "\n",
    "Let's now define a probabilistic model with all our variables:"
   ]
  },
  {
   "cell_type": "code",
   "execution_count": 3,
   "metadata": {},
   "outputs": [],
   "source": [
    "model = ProbabilisticModel([x, mu, nu])"
   ]
  },
  {
   "cell_type": "markdown",
   "metadata": {},
   "source": [
    "Since mu and nu are parents of x, ProbabilisticModel([x])\n",
    "\n",
    "This expression is slightly reduntant because ProbabilisticModel([x]) already contains all the variables since mu and nu are parents of x. However, I recommend explicitly inputing all the variables for making your code more readable. \n",
    "\n",
    "We can now print a summary of our model:"
   ]
  },
  {
   "cell_type": "code",
   "execution_count": 4,
   "metadata": {},
   "outputs": [
    {
     "data": {
      "text/html": [
       "<div>\n",
       "<style scoped>\n",
       "    .dataframe tbody tr th:only-of-type {\n",
       "        vertical-align: middle;\n",
       "    }\n",
       "\n",
       "    .dataframe tbody tr th {\n",
       "        vertical-align: top;\n",
       "    }\n",
       "\n",
       "    .dataframe thead th {\n",
       "        text-align: right;\n",
       "    }\n",
       "</style>\n",
       "<table border=\"1\" class=\"dataframe\">\n",
       "  <thead>\n",
       "    <tr style=\"text-align: right;\">\n",
       "      <th></th>\n",
       "      <th>nu</th>\n",
       "      <th>mu_loc</th>\n",
       "      <th>mu</th>\n",
       "      <th>mu_scale</th>\n",
       "      <th>x</th>\n",
       "      <th>nu_loc</th>\n",
       "      <th>nu_scale</th>\n",
       "    </tr>\n",
       "  </thead>\n",
       "  <tbody>\n",
       "    <tr>\n",
       "      <th>Distribution</th>\n",
       "      <td>Log Normal</td>\n",
       "      <td>Deterministic</td>\n",
       "      <td>Normal</td>\n",
       "      <td>Deterministic</td>\n",
       "      <td>Normal</td>\n",
       "      <td>Deterministic</td>\n",
       "      <td>Deterministic</td>\n",
       "    </tr>\n",
       "    <tr>\n",
       "      <th>Parents</th>\n",
       "      <td>{nu_scale, nu_loc}</td>\n",
       "      <td>{}</td>\n",
       "      <td>{mu_loc, mu_scale}</td>\n",
       "      <td>{}</td>\n",
       "      <td>{mu, nu}</td>\n",
       "      <td>{}</td>\n",
       "      <td>{}</td>\n",
       "    </tr>\n",
       "    <tr>\n",
       "      <th>Observed</th>\n",
       "      <td>False</td>\n",
       "      <td>False</td>\n",
       "      <td>False</td>\n",
       "      <td>False</td>\n",
       "      <td>False</td>\n",
       "      <td>False</td>\n",
       "      <td>False</td>\n",
       "    </tr>\n",
       "  </tbody>\n",
       "</table>\n",
       "</div>"
      ],
      "text/plain": [
       "                              nu         mu_loc                  mu  \\\n",
       "Distribution          Log Normal  Deterministic              Normal   \n",
       "Parents       {nu_scale, nu_loc}             {}  {mu_loc, mu_scale}   \n",
       "Observed                   False          False               False   \n",
       "\n",
       "                   mu_scale         x         nu_loc       nu_scale  \n",
       "Distribution  Deterministic    Normal  Deterministic  Deterministic  \n",
       "Parents                  {}  {mu, nu}             {}             {}  \n",
       "Observed              False     False          False          False  "
      ]
     },
     "execution_count": 4,
     "metadata": {},
     "output_type": "execute_result"
    }
   ],
   "source": [
    "model.model_summary"
   ]
  },
  {
   "cell_type": "markdown",
   "metadata": {},
   "source": [
    "As we would expect, the variable x has mu and nu as parents. However, you might be surprised by the fact that there are new variables such as mu_mu and mu_sigma whioch we did not explicitly defined. These are deterministic variables that represent the fixed values of the parameters of our distribution. DeterministicVariables are a special case of BrancherVariables, they behave pretty much like RandomVariables expect their value being deterministic. As you can see, often you will not need to define these variables explicitly since Brancher will constract them for you when you input numbers or np.array as parameters for your RandomVariables.\n",
    "\n",
    "All the variables are currently marked as not observed. We will see how to \"observe\" some variables by inputing data later on.\n",
    "\n",
    "Let's now have a look to sampling: the most important operation you can do on probabilisticModels!"
   ]
  },
  {
   "cell_type": "code",
   "execution_count": 5,
   "metadata": {},
   "outputs": [
    {
     "data": {
      "text/html": [
       "<div>\n",
       "<style scoped>\n",
       "    .dataframe tbody tr th:only-of-type {\n",
       "        vertical-align: middle;\n",
       "    }\n",
       "\n",
       "    .dataframe tbody tr th {\n",
       "        vertical-align: top;\n",
       "    }\n",
       "\n",
       "    .dataframe thead th {\n",
       "        text-align: right;\n",
       "    }\n",
       "</style>\n",
       "<table border=\"1\" class=\"dataframe\">\n",
       "  <thead>\n",
       "    <tr style=\"text-align: right;\">\n",
       "      <th></th>\n",
       "      <th>mu_loc</th>\n",
       "      <th>mu_scale</th>\n",
       "      <th>mu</th>\n",
       "      <th>nu_scale</th>\n",
       "      <th>nu_loc</th>\n",
       "      <th>nu</th>\n",
       "      <th>x</th>\n",
       "    </tr>\n",
       "  </thead>\n",
       "  <tbody>\n",
       "    <tr>\n",
       "      <th>0</th>\n",
       "      <td>0.0</td>\n",
       "      <td>9.999954</td>\n",
       "      <td>0.808285</td>\n",
       "      <td>0.541325</td>\n",
       "      <td>0.0</td>\n",
       "      <td>1.072378</td>\n",
       "      <td>1.486100</td>\n",
       "    </tr>\n",
       "    <tr>\n",
       "      <th>1</th>\n",
       "      <td>0.0</td>\n",
       "      <td>9.999954</td>\n",
       "      <td>12.279623</td>\n",
       "      <td>0.541325</td>\n",
       "      <td>0.0</td>\n",
       "      <td>0.610439</td>\n",
       "      <td>-0.703482</td>\n",
       "    </tr>\n",
       "    <tr>\n",
       "      <th>2</th>\n",
       "      <td>0.0</td>\n",
       "      <td>9.999954</td>\n",
       "      <td>-3.340621</td>\n",
       "      <td>0.541325</td>\n",
       "      <td>0.0</td>\n",
       "      <td>1.408964</td>\n",
       "      <td>-0.218620</td>\n",
       "    </tr>\n",
       "    <tr>\n",
       "      <th>3</th>\n",
       "      <td>0.0</td>\n",
       "      <td>9.999954</td>\n",
       "      <td>0.664779</td>\n",
       "      <td>0.541325</td>\n",
       "      <td>0.0</td>\n",
       "      <td>1.749260</td>\n",
       "      <td>0.684522</td>\n",
       "    </tr>\n",
       "    <tr>\n",
       "      <th>4</th>\n",
       "      <td>0.0</td>\n",
       "      <td>9.999954</td>\n",
       "      <td>-11.723947</td>\n",
       "      <td>0.541325</td>\n",
       "      <td>0.0</td>\n",
       "      <td>0.801317</td>\n",
       "      <td>0.593664</td>\n",
       "    </tr>\n",
       "    <tr>\n",
       "      <th>5</th>\n",
       "      <td>0.0</td>\n",
       "      <td>9.999954</td>\n",
       "      <td>-14.605591</td>\n",
       "      <td>0.541325</td>\n",
       "      <td>0.0</td>\n",
       "      <td>1.092042</td>\n",
       "      <td>1.203351</td>\n",
       "    </tr>\n",
       "    <tr>\n",
       "      <th>6</th>\n",
       "      <td>0.0</td>\n",
       "      <td>9.999954</td>\n",
       "      <td>6.438367</td>\n",
       "      <td>0.541325</td>\n",
       "      <td>0.0</td>\n",
       "      <td>2.631627</td>\n",
       "      <td>-0.901684</td>\n",
       "    </tr>\n",
       "    <tr>\n",
       "      <th>7</th>\n",
       "      <td>0.0</td>\n",
       "      <td>9.999954</td>\n",
       "      <td>22.934248</td>\n",
       "      <td>0.541325</td>\n",
       "      <td>0.0</td>\n",
       "      <td>6.181613</td>\n",
       "      <td>-13.972402</td>\n",
       "    </tr>\n",
       "    <tr>\n",
       "      <th>8</th>\n",
       "      <td>0.0</td>\n",
       "      <td>9.999954</td>\n",
       "      <td>-2.937538</td>\n",
       "      <td>0.541325</td>\n",
       "      <td>0.0</td>\n",
       "      <td>1.201508</td>\n",
       "      <td>-0.597040</td>\n",
       "    </tr>\n",
       "    <tr>\n",
       "      <th>9</th>\n",
       "      <td>0.0</td>\n",
       "      <td>9.999954</td>\n",
       "      <td>-0.122927</td>\n",
       "      <td>0.541325</td>\n",
       "      <td>0.0</td>\n",
       "      <td>3.239505</td>\n",
       "      <td>1.268376</td>\n",
       "    </tr>\n",
       "  </tbody>\n",
       "</table>\n",
       "</div>"
      ],
      "text/plain": [
       "   mu_loc  mu_scale         mu  nu_scale  nu_loc        nu          x\n",
       "0     0.0  9.999954   0.808285  0.541325     0.0  1.072378   1.486100\n",
       "1     0.0  9.999954  12.279623  0.541325     0.0  0.610439  -0.703482\n",
       "2     0.0  9.999954  -3.340621  0.541325     0.0  1.408964  -0.218620\n",
       "3     0.0  9.999954   0.664779  0.541325     0.0  1.749260   0.684522\n",
       "4     0.0  9.999954 -11.723947  0.541325     0.0  0.801317   0.593664\n",
       "5     0.0  9.999954 -14.605591  0.541325     0.0  1.092042   1.203351\n",
       "6     0.0  9.999954   6.438367  0.541325     0.0  2.631627  -0.901684\n",
       "7     0.0  9.999954  22.934248  0.541325     0.0  6.181613 -13.972402\n",
       "8     0.0  9.999954  -2.937538  0.541325     0.0  1.201508  -0.597040\n",
       "9     0.0  9.999954  -0.122927  0.541325     0.0  3.239505   1.268376"
      ]
     },
     "execution_count": 5,
     "metadata": {},
     "output_type": "execute_result"
    }
   ],
   "source": [
    "# Print samples\n",
    "sample = model.get_sample(10)\n",
    "sample"
   ]
  },
  {
   "cell_type": "markdown",
   "metadata": {},
   "source": [
    "As you can see, if we sample from the ProbabilisticModel we get samples for all the variables in our model. We can also sample from the individual variables:"
   ]
  },
  {
   "cell_type": "code",
   "execution_count": 6,
   "metadata": {},
   "outputs": [
    {
     "data": {
      "text/html": [
       "<div>\n",
       "<style scoped>\n",
       "    .dataframe tbody tr th:only-of-type {\n",
       "        vertical-align: middle;\n",
       "    }\n",
       "\n",
       "    .dataframe tbody tr th {\n",
       "        vertical-align: top;\n",
       "    }\n",
       "\n",
       "    .dataframe thead th {\n",
       "        text-align: right;\n",
       "    }\n",
       "</style>\n",
       "<table border=\"1\" class=\"dataframe\">\n",
       "  <thead>\n",
       "    <tr style=\"text-align: right;\">\n",
       "      <th></th>\n",
       "      <th>x</th>\n",
       "    </tr>\n",
       "  </thead>\n",
       "  <tbody>\n",
       "    <tr>\n",
       "      <th>0</th>\n",
       "      <td>-0.387607</td>\n",
       "    </tr>\n",
       "    <tr>\n",
       "      <th>1</th>\n",
       "      <td>-6.187064</td>\n",
       "    </tr>\n",
       "    <tr>\n",
       "      <th>2</th>\n",
       "      <td>0.269301</td>\n",
       "    </tr>\n",
       "    <tr>\n",
       "      <th>3</th>\n",
       "      <td>0.113456</td>\n",
       "    </tr>\n",
       "    <tr>\n",
       "      <th>4</th>\n",
       "      <td>-2.858394</td>\n",
       "    </tr>\n",
       "    <tr>\n",
       "      <th>5</th>\n",
       "      <td>0.763187</td>\n",
       "    </tr>\n",
       "    <tr>\n",
       "      <th>6</th>\n",
       "      <td>-3.079767</td>\n",
       "    </tr>\n",
       "    <tr>\n",
       "      <th>7</th>\n",
       "      <td>0.313820</td>\n",
       "    </tr>\n",
       "    <tr>\n",
       "      <th>8</th>\n",
       "      <td>-1.482616</td>\n",
       "    </tr>\n",
       "    <tr>\n",
       "      <th>9</th>\n",
       "      <td>-0.887327</td>\n",
       "    </tr>\n",
       "  </tbody>\n",
       "</table>\n",
       "</div>"
      ],
      "text/plain": [
       "          x\n",
       "0 -0.387607\n",
       "1 -6.187064\n",
       "2  0.269301\n",
       "3  0.113456\n",
       "4 -2.858394\n",
       "5  0.763187\n",
       "6 -3.079767\n",
       "7  0.313820\n",
       "8 -1.482616\n",
       "9 -0.887327"
      ]
     },
     "execution_count": 6,
     "metadata": {},
     "output_type": "execute_result"
    }
   ],
   "source": [
    "# Print samples from single variable\n",
    "x_sample = x.get_sample(10)\n",
    "x_sample"
   ]
  },
  {
   "cell_type": "markdown",
   "metadata": {},
   "source": [
    "Note that Brancher is still sampling all the parents of x recursively (parents of the parents and so on) since it needs all these values for sampling x.\n",
    "\n",
    "Another thing we can do is to sample after inputing the values of some variables. This converts the ProbabilisticModel into a random function that takes some input and output some samples with the probability distribution defined by the model:"
   ]
  },
  {
   "cell_type": "code",
   "execution_count": 7,
   "metadata": {},
   "outputs": [
    {
     "data": {
      "text/html": [
       "<div>\n",
       "<style scoped>\n",
       "    .dataframe tbody tr th:only-of-type {\n",
       "        vertical-align: middle;\n",
       "    }\n",
       "\n",
       "    .dataframe tbody tr th {\n",
       "        vertical-align: top;\n",
       "    }\n",
       "\n",
       "    .dataframe thead th {\n",
       "        text-align: right;\n",
       "    }\n",
       "</style>\n",
       "<table border=\"1\" class=\"dataframe\">\n",
       "  <thead>\n",
       "    <tr style=\"text-align: right;\">\n",
       "      <th></th>\n",
       "      <th>mu</th>\n",
       "      <th>nu_scale</th>\n",
       "      <th>nu_loc</th>\n",
       "      <th>nu</th>\n",
       "      <th>x</th>\n",
       "    </tr>\n",
       "  </thead>\n",
       "  <tbody>\n",
       "    <tr>\n",
       "      <th>0</th>\n",
       "      <td>100.0</td>\n",
       "      <td>0.541325</td>\n",
       "      <td>0.0</td>\n",
       "      <td>3.129300</td>\n",
       "      <td>2.300809</td>\n",
       "    </tr>\n",
       "    <tr>\n",
       "      <th>1</th>\n",
       "      <td>100.0</td>\n",
       "      <td>0.541325</td>\n",
       "      <td>0.0</td>\n",
       "      <td>5.791911</td>\n",
       "      <td>4.017151</td>\n",
       "    </tr>\n",
       "    <tr>\n",
       "      <th>2</th>\n",
       "      <td>100.0</td>\n",
       "      <td>0.541325</td>\n",
       "      <td>0.0</td>\n",
       "      <td>0.346305</td>\n",
       "      <td>0.246316</td>\n",
       "    </tr>\n",
       "    <tr>\n",
       "      <th>3</th>\n",
       "      <td>100.0</td>\n",
       "      <td>0.541325</td>\n",
       "      <td>0.0</td>\n",
       "      <td>0.222246</td>\n",
       "      <td>-0.057001</td>\n",
       "    </tr>\n",
       "    <tr>\n",
       "      <th>4</th>\n",
       "      <td>100.0</td>\n",
       "      <td>0.541325</td>\n",
       "      <td>0.0</td>\n",
       "      <td>0.338297</td>\n",
       "      <td>-0.853128</td>\n",
       "    </tr>\n",
       "    <tr>\n",
       "      <th>5</th>\n",
       "      <td>100.0</td>\n",
       "      <td>0.541325</td>\n",
       "      <td>0.0</td>\n",
       "      <td>0.478378</td>\n",
       "      <td>-0.717123</td>\n",
       "    </tr>\n",
       "    <tr>\n",
       "      <th>6</th>\n",
       "      <td>100.0</td>\n",
       "      <td>0.541325</td>\n",
       "      <td>0.0</td>\n",
       "      <td>2.187540</td>\n",
       "      <td>3.551509</td>\n",
       "    </tr>\n",
       "    <tr>\n",
       "      <th>7</th>\n",
       "      <td>100.0</td>\n",
       "      <td>0.541325</td>\n",
       "      <td>0.0</td>\n",
       "      <td>0.393402</td>\n",
       "      <td>-1.281143</td>\n",
       "    </tr>\n",
       "    <tr>\n",
       "      <th>8</th>\n",
       "      <td>100.0</td>\n",
       "      <td>0.541325</td>\n",
       "      <td>0.0</td>\n",
       "      <td>4.864683</td>\n",
       "      <td>7.547813</td>\n",
       "    </tr>\n",
       "    <tr>\n",
       "      <th>9</th>\n",
       "      <td>100.0</td>\n",
       "      <td>0.541325</td>\n",
       "      <td>0.0</td>\n",
       "      <td>0.396567</td>\n",
       "      <td>-1.021750</td>\n",
       "    </tr>\n",
       "  </tbody>\n",
       "</table>\n",
       "</div>"
      ],
      "text/plain": [
       "      mu  nu_scale  nu_loc        nu         x\n",
       "0  100.0  0.541325     0.0  3.129300  2.300809\n",
       "1  100.0  0.541325     0.0  5.791911  4.017151\n",
       "2  100.0  0.541325     0.0  0.346305  0.246316\n",
       "3  100.0  0.541325     0.0  0.222246 -0.057001\n",
       "4  100.0  0.541325     0.0  0.338297 -0.853128\n",
       "5  100.0  0.541325     0.0  0.478378 -0.717123\n",
       "6  100.0  0.541325     0.0  2.187540  3.551509\n",
       "7  100.0  0.541325     0.0  0.393402 -1.281143\n",
       "8  100.0  0.541325     0.0  4.864683  7.547813\n",
       "9  100.0  0.541325     0.0  0.396567 -1.021750"
      ]
     },
     "execution_count": 7,
     "metadata": {},
     "output_type": "execute_result"
    }
   ],
   "source": [
    "# Print samples conditional on an input\n",
    "in_sample = model.get_sample(10, input_values={mu: 100.})\n",
    "in_sample"
   ]
  },
  {
   "cell_type": "markdown",
   "metadata": {},
   "source": [
    "Note that this is equivalent to conditioning the model on the value of some variables and sampling everything downstream (children, grandchildren and so on). In order to sample upstream of some known values we need to define observation and use variational inference for getting an approximate posterior distribution. Let's begin by defining some ground truth values for the mu and nu variables and generate some synthetic observations:"
   ]
  },
  {
   "cell_type": "code",
   "execution_count": 8,
   "metadata": {},
   "outputs": [],
   "source": [
    "# # Generate data\n",
    "nu_real = 0.5\n",
    "mu_real = -1.\n",
    "data = x.get_sample(number_samples=100, input_values={mu: mu_real, nu: nu_real})"
   ]
  },
  {
   "cell_type": "markdown",
   "metadata": {},
   "source": [
    "We can now tell Brancher that the x variable is observed with the values specified by our data. In this case data is a Pandas dataframe since it is the output of the get_sample method. However you can also input a single number or an np.array of any shape (the first dimension of the array is going to be the batch dimension while the other define tensor values observations)."
   ]
  },
  {
   "cell_type": "code",
   "execution_count": 9,
   "metadata": {},
   "outputs": [
    {
     "data": {
      "text/html": [
       "<div>\n",
       "<style scoped>\n",
       "    .dataframe tbody tr th:only-of-type {\n",
       "        vertical-align: middle;\n",
       "    }\n",
       "\n",
       "    .dataframe tbody tr th {\n",
       "        vertical-align: top;\n",
       "    }\n",
       "\n",
       "    .dataframe thead th {\n",
       "        text-align: right;\n",
       "    }\n",
       "</style>\n",
       "<table border=\"1\" class=\"dataframe\">\n",
       "  <thead>\n",
       "    <tr style=\"text-align: right;\">\n",
       "      <th></th>\n",
       "      <th>nu</th>\n",
       "      <th>mu_loc</th>\n",
       "      <th>mu</th>\n",
       "      <th>mu_scale</th>\n",
       "      <th>x</th>\n",
       "      <th>nu_loc</th>\n",
       "      <th>nu_scale</th>\n",
       "    </tr>\n",
       "  </thead>\n",
       "  <tbody>\n",
       "    <tr>\n",
       "      <th>Distribution</th>\n",
       "      <td>Log Normal</td>\n",
       "      <td>Deterministic</td>\n",
       "      <td>Normal</td>\n",
       "      <td>Deterministic</td>\n",
       "      <td>Normal</td>\n",
       "      <td>Deterministic</td>\n",
       "      <td>Deterministic</td>\n",
       "    </tr>\n",
       "    <tr>\n",
       "      <th>Parents</th>\n",
       "      <td>{nu_scale, nu_loc}</td>\n",
       "      <td>{}</td>\n",
       "      <td>{mu_loc, mu_scale}</td>\n",
       "      <td>{}</td>\n",
       "      <td>{mu, nu}</td>\n",
       "      <td>{}</td>\n",
       "      <td>{}</td>\n",
       "    </tr>\n",
       "    <tr>\n",
       "      <th>Observed</th>\n",
       "      <td>False</td>\n",
       "      <td>False</td>\n",
       "      <td>False</td>\n",
       "      <td>False</td>\n",
       "      <td>True</td>\n",
       "      <td>False</td>\n",
       "      <td>False</td>\n",
       "    </tr>\n",
       "  </tbody>\n",
       "</table>\n",
       "</div>"
      ],
      "text/plain": [
       "                              nu         mu_loc                  mu  \\\n",
       "Distribution          Log Normal  Deterministic              Normal   \n",
       "Parents       {nu_scale, nu_loc}             {}  {mu_loc, mu_scale}   \n",
       "Observed                   False          False               False   \n",
       "\n",
       "                   mu_scale         x         nu_loc       nu_scale  \n",
       "Distribution  Deterministic    Normal  Deterministic  Deterministic  \n",
       "Parents                  {}  {mu, nu}             {}             {}  \n",
       "Observed              False      True          False          False  "
      ]
     },
     "execution_count": 9,
     "metadata": {},
     "output_type": "execute_result"
    }
   ],
   "source": [
    "# Observe data\n",
    "x.observe(data)\n",
    "model.model_summary"
   ]
  },
  {
   "cell_type": "markdown",
   "metadata": {},
   "source": [
    "As you can see the x variable is now observed. If you want to sample the variables mu and nu that are downstream x you need to perform approximate Bayesian inference. In Brancher, you can do this by defining a variational distribution for all the variables you want to sample from. The variational model is a probabilistic model itself and it is constructed in the very same way of our original probabilistic model.\n",
    "\n",
    "if you want to go deeper into the theory behind the variational approximation you can start with the [wikipedia page](https://en.wikipedia.org/wiki/Variational_Bayesian_methods) or excellent textbooks such as [Pattern recognition and machine learning](https://cds.cern.ch/record/998831/files/9780387310732_TOC.pdf).\n",
    "\n",
    "The simplest way of specifying this distribution is the use the same distributions you had in your original model:"
   ]
  },
  {
   "cell_type": "code",
   "execution_count": 10,
   "metadata": {},
   "outputs": [],
   "source": [
    "# Variational model\n",
    "Qnu = LogNormalVariable(0., 1., \"nu\", learnable=True)\n",
    "Qmu = NormalVariable(0., 1., \"mu\", learnable=True)\n",
    "model.set_posterior_model(ProbabilisticModel([Qmu, Qnu]))"
   ]
  },
  {
   "cell_type": "markdown",
   "metadata": {},
   "source": [
    "We now need to use some stochastic optimization (usual deep leaning stuff...) for learning the parameters of our variational approximation. This technique is called stochastic variational inference and it is extremely powerful since it neatly fit Bayesian inference into the deep learning framework (indeed brancher is designed to work with deep neural networks as building blocks for complex probabilistic models).\n",
    "\n",
    "We told Brancher that the parameters of the variational distributions are learnable using the \"learnable\" flag. Let's now learn those parameters:"
   ]
  },
  {
   "cell_type": "code",
   "execution_count": 11,
   "metadata": {},
   "outputs": [
    {
     "name": "stderr",
     "output_type": "stream",
     "text": [
      "/home/luca/GitRepositories/Brancher/brancher/inference.py:61: UserWarning: The inference method was not specified, using the default reverse KL variational inference\n",
      "  warnings.warn(\"The inference method was not specified, using the default reverse KL variational inference\")\n",
      "100%|██████████| 500/500 [00:02<00:00, 218.17it/s]\n"
     ]
    }
   ],
   "source": [
    "# Inference\n",
    "inference.perform_inference(model,\n",
    "                            number_iterations=500,\n",
    "                            number_samples=50,\n",
    "                            optimizer=\"Adam\",\n",
    "                            lr=0.01)\n",
    "loss_list = model.diagnostics[\"loss curve\"]"
   ]
  },
  {
   "cell_type": "markdown",
   "metadata": {},
   "source": [
    "Et voilà, the approximate posterior distribution is trained. The number_samples parameter specify the minibatch size of the parameters sampled from the variational distribution. You need to know something about stochastic variational inference for fully getting this point and I will cover it more properly in more advanced tutorials.\n",
    "\n",
    "Let's now plot the loss to be sure that everything went fine."
   ]
  },
  {
   "cell_type": "code",
   "execution_count": 12,
   "metadata": {},
   "outputs": [
    {
     "data": {
      "text/plain": [
       "[<matplotlib.lines.Line2D at 0x7f9520e4d898>]"
      ]
     },
     "execution_count": 12,
     "metadata": {},
     "output_type": "execute_result"
    },
    {
     "data": {
      "image/png": "[encoded data removed]",
      "text/plain": [
       "<Figure size 432x288 with 1 Axes>"
      ]
     },
     "metadata": {
      "needs_background": "light"
     },
     "output_type": "display_data"
    }
   ],
   "source": [
    "plt.plot(loss_list)"
   ]
  },
  {
   "cell_type": "markdown",
   "metadata": {},
   "source": [
    "It looks ok! note however that this optimization can potentially get stuck in local minima like any other gradient based optimization so be careful. Stochastic variational inference is a powerful general purpose inference method but it does not do magic.\n",
    "\n",
    "Let's now get some samples from the posterior:"
   ]
  },
  {
   "cell_type": "code",
   "execution_count": 13,
   "metadata": {},
   "outputs": [
    {
     "data": {
      "text/html": [
       "<div>\n",
       "<style scoped>\n",
       "    .dataframe tbody tr th:only-of-type {\n",
       "        vertical-align: middle;\n",
       "    }\n",
       "\n",
       "    .dataframe tbody tr th {\n",
       "        vertical-align: top;\n",
       "    }\n",
       "\n",
       "    .dataframe thead th {\n",
       "        text-align: right;\n",
       "    }\n",
       "</style>\n",
       "<table border=\"1\" class=\"dataframe\">\n",
       "  <thead>\n",
       "    <tr style=\"text-align: right;\">\n",
       "      <th></th>\n",
       "      <th>mu</th>\n",
       "      <th>nu</th>\n",
       "      <th>x</th>\n",
       "      <th>mu_scale</th>\n",
       "      <th>mu_loc</th>\n",
       "      <th>nu_loc</th>\n",
       "      <th>nu_scale</th>\n",
       "    </tr>\n",
       "  </thead>\n",
       "  <tbody>\n",
       "    <tr>\n",
       "      <th>count</th>\n",
       "      <td>1000.000000</td>\n",
       "      <td>1000.000000</td>\n",
       "      <td>1000.000000</td>\n",
       "      <td>1000.000000</td>\n",
       "      <td>1000.000000</td>\n",
       "      <td>1000.000000</td>\n",
       "      <td>1000.000000</td>\n",
       "    </tr>\n",
       "    <tr>\n",
       "      <th>mean</th>\n",
       "      <td>-1.132981</td>\n",
       "      <td>0.972926</td>\n",
       "      <td>-0.853557</td>\n",
       "      <td>-1.045208</td>\n",
       "      <td>-1.137778</td>\n",
       "      <td>-0.211238</td>\n",
       "      <td>-0.157409</td>\n",
       "    </tr>\n",
       "    <tr>\n",
       "      <th>std</th>\n",
       "      <td>0.303519</td>\n",
       "      <td>0.683251</td>\n",
       "      <td>1.207813</td>\n",
       "      <td>0.000000</td>\n",
       "      <td>0.000000</td>\n",
       "      <td>0.000000</td>\n",
       "      <td>0.000000</td>\n",
       "    </tr>\n",
       "    <tr>\n",
       "      <th>min</th>\n",
       "      <td>-2.211305</td>\n",
       "      <td>0.083033</td>\n",
       "      <td>-11.666206</td>\n",
       "      <td>-1.045208</td>\n",
       "      <td>-1.137778</td>\n",
       "      <td>-0.211238</td>\n",
       "      <td>-0.157409</td>\n",
       "    </tr>\n",
       "    <tr>\n",
       "      <th>25%</th>\n",
       "      <td>-1.340877</td>\n",
       "      <td>0.498089</td>\n",
       "      <td>-1.427967</td>\n",
       "      <td>-1.045208</td>\n",
       "      <td>-1.137778</td>\n",
       "      <td>-0.211238</td>\n",
       "      <td>-0.157409</td>\n",
       "    </tr>\n",
       "    <tr>\n",
       "      <th>50%</th>\n",
       "      <td>-1.129678</td>\n",
       "      <td>0.810982</td>\n",
       "      <td>-0.861622</td>\n",
       "      <td>-1.045208</td>\n",
       "      <td>-1.137778</td>\n",
       "      <td>-0.211238</td>\n",
       "      <td>-0.157409</td>\n",
       "    </tr>\n",
       "    <tr>\n",
       "      <th>75%</th>\n",
       "      <td>-0.923341</td>\n",
       "      <td>1.256558</td>\n",
       "      <td>-0.326371</td>\n",
       "      <td>-1.045208</td>\n",
       "      <td>-1.137778</td>\n",
       "      <td>-0.211238</td>\n",
       "      <td>-0.157409</td>\n",
       "    </tr>\n",
       "    <tr>\n",
       "      <th>max</th>\n",
       "      <td>-0.308253</td>\n",
       "      <td>5.927497</td>\n",
       "      <td>7.720804</td>\n",
       "      <td>-1.045208</td>\n",
       "      <td>-1.137778</td>\n",
       "      <td>-0.211238</td>\n",
       "      <td>-0.157409</td>\n",
       "    </tr>\n",
       "  </tbody>\n",
       "</table>\n",
       "</div>"
      ],
      "text/plain": [
       "                mu           nu            x     mu_scale       mu_loc  \\\n",
       "count  1000.000000  1000.000000  1000.000000  1000.000000  1000.000000   \n",
       "mean     -1.132981     0.972926    -0.853557    -1.045208    -1.137778   \n",
       "std       0.303519     0.683251     1.207813     0.000000     0.000000   \n",
       "min      -2.211305     0.083033   -11.666206    -1.045208    -1.137778   \n",
       "25%      -1.340877     0.498089    -1.427967    -1.045208    -1.137778   \n",
       "50%      -1.129678     0.810982    -0.861622    -1.045208    -1.137778   \n",
       "75%      -0.923341     1.256558    -0.326371    -1.045208    -1.137778   \n",
       "max      -0.308253     5.927497     7.720804    -1.045208    -1.137778   \n",
       "\n",
       "            nu_loc     nu_scale  \n",
       "count  1000.000000  1000.000000  \n",
       "mean     -0.211238    -0.157409  \n",
       "std       0.000000     0.000000  \n",
       "min      -0.211238    -0.157409  \n",
       "25%      -0.211238    -0.157409  \n",
       "50%      -0.211238    -0.157409  \n",
       "75%      -0.211238    -0.157409  \n",
       "max      -0.211238    -0.157409  "
      ]
     },
     "execution_count": 13,
     "metadata": {},
     "output_type": "execute_result"
    }
   ],
   "source": [
    "# print posterior sample\n",
    "post_sample = model.get_posterior_sample(1000)\n",
    "post_sample.describe()"
   ]
  },
  {
   "cell_type": "markdown",
   "metadata": {},
   "source": [
    "The method describe gets some important descriptive statistics from the samples. It is just a native Pandas method and we can use it because the output of Brancher are Pandas dataframes. It is nice to work on the shoulders of other people isn't it?\n",
    " [Pandas](https://pandas.pydata.org/pandas-docs/stable/) has plenty of methods for working with data and I recommend you to use them in your Brancher pipelines! I suggest you to get started with Pandas with [this tutorial] (https://pandas.pydata.org/pandas-docs/stable/10min.html).\n",
    "\n",
    "Let's now plot the posterior distributions together with the ground truth values:"
   ]
  },
  {
   "cell_type": "code",
   "execution_count": 14,
   "metadata": {},
   "outputs": [
    {
     "data": {
      "text/plain": [
       "<matplotlib.lines.Line2D at 0x7f9520db3518>"
      ]
     },
     "execution_count": 14,
     "metadata": {},
     "output_type": "execute_result"
    },
    {
     "data": {
      "image/png": "[encoded data removed]",
      "text/plain": [
       "<Figure size 432x288 with 1 Axes>"
      ]
     },
     "metadata": {
      "needs_background": "light"
     },
     "output_type": "display_data"
    }
   ],
   "source": [
    "g = plt.hist(post_sample[\"mu\"], 50)\n",
    "plt.axvline(x=mu_real, color=\"k\", lw=2)"
   ]
  },
  {
   "cell_type": "code",
   "execution_count": 15,
   "metadata": {},
   "outputs": [
    {
     "data": {
      "text/plain": [
       "<matplotlib.lines.Line2D at 0x7f9520d4bb00>"
      ]
     },
     "execution_count": 15,
     "metadata": {},
     "output_type": "execute_result"
    },
    {
     "data": {
      "image/png": "[encoded data removed]",
      "text/plain": [
       "<Figure size 432x288 with 1 Axes>"
      ]
     },
     "metadata": {
      "needs_background": "light"
     },
     "output_type": "display_data"
    }
   ],
   "source": [
    "g = plt.hist(post_sample[\"nu\"], 50)\n",
    "plt.axvline(x=nu_real, color=\"k\", lw=2)"
   ]
  },
  {
   "cell_type": "markdown",
   "metadata": {},
   "source": [
    "We can visualize the posterior distribution using a Brancher plotting function. This function relies on [Seaborn](https://seaborn.pydata.org/), a very handy visualization library that works very well in combination with Pandas."
   ]
  },
  {
   "cell_type": "code",
   "execution_count": 16,
   "metadata": {},
   "outputs": [
    {
     "data": {
      "image/png": "[encoded data removed]",
      "text/plain": [
       "<Figure size 620.375x540 with 12 Axes>"
      ]
     },
     "metadata": {
      "needs_background": "light"
     },
     "output_type": "display_data"
    }
   ],
   "source": [
    "from brancher.visualizations import plot_posterior\n",
    "\n",
    "plot_posterior(model, variables=[\"mu\", \"nu\", \"x\"])"
   ]
  },
  {
   "cell_type": "markdown",
   "metadata": {},
   "source": [
    "It looks cool doesn't it? "
   ]
  }
 ],
 "metadata": {
  "kernelspec": {
   "display_name": "Pytorch",
   "language": "python",
   "name": "pytorch"
  },
  "language_info": {
   "codemirror_mode": {
    "name": "ipython",
    "version": 3
   },
   "file_extension": ".py",
   "mimetype": "text/x-python",
   "name": "python",
   "nbconvert_exporter": "python",
   "pygments_lexer": "ipython3",
   "version": "3.7.2"
  }
 },
 "nbformat": 4,
 "nbformat_minor": 1
}
