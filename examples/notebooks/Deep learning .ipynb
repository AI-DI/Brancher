{
 "cells": [
  {
   "cell_type": "code",
   "execution_count": 1,
   "metadata": {},
   "outputs": [],
   "source": [
    "import sys\n",
    "#sys.path.append('/home/luca/GitRepositories/Brancher')\n",
    "sys.path.append('/home/luca/GitRepositories/Brancher')\n",
    "\n",
    "import numpy as np\n",
    "import matplotlib.pyplot as plt"
   ]
  },
  {
   "cell_type": "markdown",
   "metadata": {},
   "source": [
    "In this tutorial we will explain how to integrate deep learning models into your Brancher pipline. "
   ]
  },
  {
   "cell_type": "markdown",
   "metadata": {},
   "source": [
    "## Bulding models with NN components\n",
    "\n",
    "All pytorch functions can be used in Brancher. These functions need to be imported from the Brancher function module which converts all PyTorch functions acting on torch.Tensor to Brancher functions acting on brancher.Variable.\n",
    "\n",
    "Let's get started by defining a stochastic convolutional network on the MNIST dataset. The first step is to import the dataset:\n",
    "\n",
    "### Creating the model ##"
   ]
  },
  {
   "cell_type": "code",
   "execution_count": 2,
   "metadata": {},
   "outputs": [],
   "source": [
    "import torchvision\n",
    "\n",
    "# Data\n",
    "image_size = 28\n",
    "num_classes = 10\n",
    "train = torchvision.datasets.MNIST(root='./data', train=True, download=True, transform=None)\n",
    "test = torchvision.datasets.MNIST(root='./data', train=False, download=True, transform=None)\n",
    "dataset_size = len(train)\n",
    "input_variable = np.reshape(train.train_data.numpy(), newshape=(dataset_size, 1, image_size, image_size))\n",
    "output_labels = train.train_labels.numpy()"
   ]
  },
  {
   "cell_type": "markdown",
   "metadata": {},
   "source": [
    "In a Brancher model, datasets are stored in empirical variables. These are random variables that sample minibatches from a dataset.\n",
    "In a supervised problem we need two empirical variables, one for the input images and the other for the labels. However, these two variables need to be sampled jointly as each image should be associated to a particular label. In Brancher, we can implement by this coupling by greating an additional RandomIndices variable that is a parent of both images and labels:"
   ]
  },
  {
   "cell_type": "code",
   "execution_count": 3,
   "metadata": {},
   "outputs": [],
   "source": [
    "from brancher.standard_variables import EmpiricalVariable as Empirical\n",
    "from brancher.standard_variables import RandomIndices\n",
    "\n",
    "# Data sampling model\n",
    "minibatch_size = 7\n",
    "\n",
    "minibatch_indices = RandomIndices(dataset_size=dataset_size, batch_size=minibatch_size, \n",
    "                                  name=\"indices\", is_observed=True)\n",
    "\n",
    "x = Empirical(input_variable, indices=minibatch_indices, \n",
    "              name=\"x\", is_observed=True)\n",
    "\n",
    "labels = Empirical(output_labels, indices=minibatch_indices, \n",
    "                   name=\"labels\", is_observed=True)"
   ]
  },
  {
   "cell_type": "markdown",
   "metadata": {},
   "source": [
    "For example, we can import the PyTorch conv2d function from brancher.functions to build a stochastic 2D convolutional layer with gaussian weights. We can do this by defining oth weights and the input image as Randomvariables and using the Brancher conv2d function."
   ]
  },
  {
   "cell_type": "code",
   "execution_count": 4,
   "metadata": {},
   "outputs": [],
   "source": [
    "from brancher import functions as BF\n",
    "\n",
    "from brancher.standard_variables import DeterministicVariable as Deterministic\n",
    "from brancher.standard_variables import NormalVariable as Normal\n",
    "from brancher.standard_variables import CategoricalVariable as Categorical\n",
    "\n",
    "in_channels = 1\n",
    "out_channels = 5\n",
    "image_size = 28\n",
    "Wk = Normal(loc=np.zeros((out_channels, in_channels, 3, 3)),\n",
    "            scale=np.ones((out_channels, in_channels, 3, 3)),\n",
    "            name=\"Wk\") #Gaussian convolutional kernels\n",
    "z = Deterministic(BF.relu(BF.conv2d(x, Wk, padding=1)), name=\"z\") "
   ]
  },
  {
   "cell_type": "markdown",
   "metadata": {},
   "source": [
    "Here the random input a is convolved with the random filters W. We can now run the forward pass by sampling from the model:"
   ]
  },
  {
   "cell_type": "code",
   "execution_count": 5,
   "metadata": {},
   "outputs": [
    {
     "data": {
      "text/plain": [
       "0    [[[[0. 0. 0. 0. 0. 0. 0. 0. 0. 0. 0. 0. 0. 0. ...\n",
       "1    [[[[0. 0. 0. 0. 0. 0. 0. 0. 0. 0. 0. 0. 0. 0. ...\n",
       "2    [[[[0. 0. 0. 0. 0. 0. 0. 0. 0. 0. 0. 0. 0. 0. ...\n",
       "3    [[[[0. 0. 0. 0. 0. 0. 0. 0. 0. 0. 0. 0. 0. 0. ...\n",
       "4    [[[[0. 0. 0. 0. 0. 0. 0. 0. 0. 0. 0. 0. 0. 0. ...\n",
       "5    [[[[0. 0. 0. 0. 0. 0. 0. 0. 0. 0. 0. 0. 0. 0. ...\n",
       "Name: z, dtype: object"
      ]
     },
     "execution_count": 5,
     "metadata": {},
     "output_type": "execute_result"
    }
   ],
   "source": [
    "num_samples = 6\n",
    "z.get_sample(num_samples)[\"z\"]"
   ]
  },
  {
   "cell_type": "markdown",
   "metadata": {},
   "source": [
    "Note that in each of these samples both the input and the weigths are sampled independently.\n",
    "\n",
    "We can now add a linear layer to this result to get a shallow convolutional classifier. We can do this as follows"
   ]
  },
  {
   "cell_type": "code",
   "execution_count": 6,
   "metadata": {},
   "outputs": [],
   "source": [
    "num_classes = 10\n",
    "Wl = Normal(loc = np.zeros((num_classes, image_size*image_size*out_channels)),\n",
    "            scale = np.ones((num_classes, image_size*image_size*out_channels)),\n",
    "            name = \"Wl\")\n",
    "b = Normal(loc = np.zeros((num_classes, 1)),\n",
    "           scale = np.ones((num_classes, 1)),\n",
    "           name = \"b\")\n",
    "reshaped_z = BF.reshape(z, shape=(image_size*image_size*out_channels, 1))\n",
    "k = Categorical(logits = BF.linear(reshaped_z, Wl, b), \n",
    "                name=\"k\")"
   ]
  },
  {
   "cell_type": "markdown",
   "metadata": {},
   "source": [
    "Here we needed to reshape the variable z as we need to perform matrix multiplication in the linear layer. Note that in Brancher you never need to explicitly consider the batch dimension. Batch properties are part of the data, not of the model and Brancher handle them automatically!\n",
    "\n",
    "### Observing the model and training the weights ##"
   ]
  },
  {
   "cell_type": "markdown",
   "metadata": {},
   "source": [
    "Now that the model is defined we need to specifiy which variables are observed. The input image variable $x$ was set as observed during model definition. The other variable to observe is the output $k$ which needs to be observed using the real labels. To this aim, we simply need to call the .observe method on $k$ with our label EmpiricalVariable as input."
   ]
  },
  {
   "cell_type": "code",
   "execution_count": 7,
   "metadata": {},
   "outputs": [],
   "source": [
    "k.observe(labels)"
   ]
  },
  {
   "cell_type": "markdown",
   "metadata": {},
   "source": [
    "Done! We are now ready to learn the weights. If we are not concerned with quantifying uncertainty, we can train using maximum-a-posteriori (MAP)"
   ]
  },
  {
   "cell_type": "code",
   "execution_count": 13,
   "metadata": {},
   "outputs": [
    {
     "name": "stderr",
     "output_type": "stream",
     "text": [
      "100%|██████████| 600/600 [03:21<00:00,  2.95it/s]\n"
     ]
    },
    {
     "data": {
      "text/plain": [
       "[<matplotlib.lines.Line2D at 0x7fe084769eb8>]"
      ]
     },
     "execution_count": 13,
     "metadata": {},
     "output_type": "execute_result"
    },
    {
     "data": {
      "image/png": "[encoded data removed]",
      "text/plain": [
       "<Figure size 432x288 with 1 Axes>"
      ]
     },
     "metadata": {
      "needs_background": "light"
     },
     "output_type": "display_data"
    }
   ],
   "source": [
    "from brancher.inference import MAP\n",
    "from brancher.inference import perform_inference\n",
    "from brancher.variables import ProbabilisticModel\n",
    "\n",
    "convolutional_model = ProbabilisticModel([k])\n",
    "\n",
    "perform_inference(convolutional_model,\n",
    "                  inference_method=MAP(),\n",
    "                  number_iterations=600, #500\n",
    "                  optimizer=\"Adam\",\n",
    "                  lr=0.005)\n",
    "loss_list = convolutional_model.diagnostics[\"loss curve\"]\n",
    "plt.plot(loss_list)"
   ]
  },
  {
   "cell_type": "markdown",
   "metadata": {},
   "source": [
    "We can finally test the model on the training set by sampling the newly trained posterior distribution. To this aim we need to call the .get_posterior_samples_method since .get_sample will result on a sample from the (untrained) prior. We also need to provide the test images as input to the this method:"
   ]
  },
  {
   "cell_type": "code",
   "execution_count": null,
   "metadata": {},
   "outputs": [],
   "source": [
    "test_size = test.test_data.numpy().shape[0]\n",
    "test_images = np.reshape(test.test_data.numpy(), newshape=(test_size, 1, image_size, image_size))\n",
    "\n",
    "posterior_samples = convolutional_model.get_posterior_sample(num_samples = 1, \n",
    "                                                             input_values = {x: test_images[0:4,:]})"
   ]
  },
  {
   "cell_type": "markdown",
   "metadata": {},
   "source": [
    "The output is one-hot encoded. Let's get the predicted labels:"
   ]
  },
  {
   "cell_type": "code",
   "execution_count": 14,
   "metadata": {},
   "outputs": [
    {
     "data": {
      "text/plain": [
       "array([[7],\n",
       "       [2],\n",
       "       [1],\n",
       "       [0]])"
      ]
     },
     "execution_count": 14,
     "metadata": {},
     "output_type": "execute_result"
    }
   ],
   "source": [
    "np.argmax(posterior_samples[\"k\"][0], axis=1)"
   ]
  },
  {
   "cell_type": "markdown",
   "metadata": {},
   "source": [
    "## Using existing PyTorch models in a Brancher model"
   ]
  },
  {
   "cell_type": "markdown",
   "metadata": {},
   "source": [
    "So far we saw how to construct Brancher models with NN building blocks. However, somethimes it is useful to pre specify a PyTorch model and use it in a Brancher model. In this case, we need to wrap the PyTorch model using the brancher.functions.BrancherFunction class. \n",
    "\n",
    "Let's start by defining a PyTorch network:"
   ]
  },
  {
   "cell_type": "code",
   "execution_count": null,
   "metadata": {},
   "outputs": [],
   "source": [
    "import torch\n",
    "\n",
    "## PyTorch model ##\n",
    "class PytorchNetwork(torch.nn.Module):\n",
    "    def __init__(self):\n",
    "        super(PytorchNetwork, self).__init__()\n",
    "        out_channels = 5\n",
    "        image_size = 28\n",
    "        self.l1 = torch.nn.Conv2d(in_channels=1, out_channels=out_channels, kernel_size=3, padding=1)\n",
    "        self.f1 = torch.nn.ReLU()\n",
    "        self.l2 = torch.nn.Linear(in_features=image_size ** 2 * out_channels, out_features=10)\n",
    "\n",
    "    def __call__(self, x):\n",
    "        h = self.f1(self.l1(x))\n",
    "        h_shape = h.shape\n",
    "        h = h.view((h_shape[0], np.prod(h_shape[1:])))\n",
    "        logits = self.l2(h)\n",
    "        return logits\n",
    "    \n",
    "network = PytorchNetwork()"
   ]
  },
  {
   "cell_type": "markdown",
   "metadata": {},
   "source": [
    "We can now convert it into a Brancher function:"
   ]
  },
  {
   "cell_type": "code",
   "execution_count": null,
   "metadata": {},
   "outputs": [],
   "source": [
    "## Equivalent Brancher model ##\n",
    "brancher_network = BF.BrancherFunction(network)"
   ]
  },
  {
   "cell_type": "markdown",
   "metadata": {},
   "source": [
    "Note that in this procedure does not create latent variables as we are treating the network as a black-box function with learnable parameters. This implies that we can train the weights using maximal likelihood but we cannot use Bayesiance inference methods on the weights.\n",
    "\n",
    "We can now construct a Brancher model as follows"
   ]
  },
  {
   "cell_type": "code",
   "execution_count": null,
   "metadata": {},
   "outputs": [],
   "source": [
    "# Data sampling model\n",
    "minibatch_size = 4\n",
    "minibatch_indices = RandomIndices(dataset_size=dataset_size, batch_size=minibatch_size,\n",
    "                                  name=\"indices\", is_observed=True)\n",
    "x = Empirical(input_variable, indices=minibatch_indices,\n",
    "              name=\"x\", is_observed=True)\n",
    "labels = Empirical(output_labels, indices=minibatch_indices,\n",
    "                   name=\"labels\", is_observed=True)\n",
    "\n",
    "# Forward model #\n",
    "k = Categorical(logits=brancher_network(x),\n",
    "                name=\"k\")\n",
    "k.observe(labels)"
   ]
  },
  {
   "cell_type": "markdown",
   "metadata": {},
   "source": [
    "We can now train using MaximulLikelihood:"
   ]
  },
  {
   "cell_type": "code",
   "execution_count": null,
   "metadata": {},
   "outputs": [],
   "source": [
    "from brancher.inference import MaximumLikelihood\n",
    "from brancher.inference import perform_inference\n",
    "from brancher.variables import ProbabilisticModel\n",
    "\n",
    "convolutional_model = ProbabilisticModel([k])\n",
    "\n",
    "perform_inference(convolutional_model,\n",
    "                  inference_method=MaximumLikelihood(),\n",
    "                  number_iterations=500,\n",
    "                  optimizer=\"Adam\",\n",
    "                  lr=0.001)\n",
    "loss_list = convolutional_model.diagnostics[\"loss curve\"]\n",
    "plt.plot(loss_list)"
   ]
  },
  {
   "cell_type": "markdown",
   "metadata": {},
   "source": [
    "Note that MaximulLikelihood trains the probabilistic model itself (the prior in Bayesian terms) and not the posterior model. Therefore, we can test the model by calling the .get_sample method instead .get_posterior_sample (the posterior is not eve defined in this model as we do not have latent variables):"
   ]
  },
  {
   "cell_type": "code",
   "execution_count": 19,
   "metadata": {},
   "outputs": [
    {
     "data": {
      "text/plain": [
       "array([[4],\n",
       "       [4],\n",
       "       [5],\n",
       "       [4]])"
      ]
     },
     "execution_count": 19,
     "metadata": {},
     "output_type": "execute_result"
    }
   ],
   "source": [
    "test_size = test.test_data.numpy().shape[0]\n",
    "test_images = np.reshape(test.test_data.numpy(), newshape=(test_size, 1, image_size, image_size))\n",
    "\n",
    "np.argmax(convolutional_model.get_sample(1, input_values= {x: test_images[0:4,:]})[\"k\"][0], axis=1)"
   ]
  }
 ],
 "metadata": {
  "kernelspec": {
   "display_name": "Pytorch",
   "language": "python",
   "name": "pytorch"
  },
  "language_info": {
   "codemirror_mode": {
    "name": "ipython",
    "version": 3
   },
   "file_extension": ".py",
   "mimetype": "text/x-python",
   "name": "python",
   "nbconvert_exporter": "python",
   "pygments_lexer": "ipython3",
   "version": "3.7.2"
  }
 },
 "nbformat": 4,
 "nbformat_minor": 2
}
